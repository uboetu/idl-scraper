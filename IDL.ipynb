{
 "cells": [
  {
   "cell_type": "code",
   "execution_count": 1,
   "metadata": {},
   "outputs": [],
   "source": [
    "from bs4 import BeautifulSoup\n",
    "import requests\n",
    "import string\n",
    "import time\n",
    "import itertools "
   ]
  },
  {
   "cell_type": "code",
   "execution_count": 2,
   "metadata": {},
   "outputs": [],
   "source": [
    "import requests\n",
    "from bs4 import BeautifulSoup\n",
    "from bs4.dammit import EncodingDetector\n",
    "\n",
    "\n",
    "\n",
    "baseurl = \"https://www.indifferentlanguages.com\"\n",
    "urls= []\n",
    "parser = 'html.parser'\n",
    "resp = requests.get(baseurl)\n",
    "http_encoding = resp.encoding if 'charset' in resp.headers.get('content-type', '').lower() else None\n",
    "html_encoding = EncodingDetector.find_declared_encoding(resp.content, is_html=True)\n",
    "encoding = html_encoding or http_encoding\n",
    "soup = BeautifulSoup(resp.content, parser, from_encoding=encoding)\n",
    "\n",
    "for link in soup.find_all('a', class_=\"letter\"):\n",
    "    urls.append(baseurl + link['href'])\n",
    "\n",
    "# allurls = []\n",
    "allurls = set()\n",
    "for item in urls:\n",
    "    reqs = requests.get(item)\n",
    "    soup = BeautifulSoup(reqs.text, 'html.parser')\n",
    "    for link in soup.find_all('a'):\n",
    "        extension = link.get('href')\n",
    "        if \"dictionary\" in extension:\n",
    "            # allurls.append(baseurl + extension)\n",
    "            allurls.add(baseurl + extension)\n",
    "            \n",
    "        \n",
    "# print(allurls)\n",
    "finale = set()\n",
    "for item in allurls:\n",
    "    reqs = requests.get(item)\n",
    "    soup = BeautifulSoup(reqs.text, 'html.parser')\n",
    "    for link in soup.find_all('a'):\n",
    "        extension = link.get('href')\n",
    "        if \"word\" in extension:\n",
    "            # allurls.append(baseurl + extension)\n",
    "            finale.add(baseurl + extension)\n",
    "\n",
    "\n",
    "\n",
    "\n"
   ]
  },
  {
   "cell_type": "code",
   "execution_count": 9,
   "metadata": {},
   "outputs": [
    {
     "data": {
      "text/plain": [
       "{'categories': ['health_and_healthcare'],\n",
       " 'translations': {'Albanian': 'sëmundja e rëndë',\n",
       "  'Basque': 'gaixotasun larria',\n",
       "  'Belarusian': 'цяжкая хвароба',\n",
       "  'Bosnian': 'teška bolest',\n",
       "  'Bulgarian': 'Тежко заболяване',\n",
       "  'Catalan': 'malaltia greu',\n",
       "  'Corsican': 'malatia grave',\n",
       "  'Croatian': 'Teškim bolestima',\n",
       "  'Czech': 'Závažné onemocnění',\n",
       "  'Danish': 'Alvorlig sygdom',\n",
       "  'Dutch': 'Ernstige ziekte',\n",
       "  'Estonian': 'raske haigus',\n",
       "  'Finnish': 'vakava sairaus',\n",
       "  'French': 'Maladie grave',\n",
       "  'Frisian': 'slimme sykte',\n",
       "  'Galician': 'enfermidade grave',\n",
       "  'German': 'schlimme Krankheit',\n",
       "  'Greek': 'Σοβαρή ασθένεια\\n',\n",
       "  'Hungarian': 'súlyos betegség',\n",
       "  'Icelandic': 'Alvarleg sjúkdómur',\n",
       "  'Irish': 'galar trom',\n",
       "  'Italian': 'Grave malattia',\n",
       "  'Latvian': 'smaga slimība',\n",
       "  'Lithuanian': 'sunkus liga',\n",
       "  'Luxembourgish': 'schwéier Krankheet',\n",
       "  'Macedonian': 'тешка болест',\n",
       "  'Maltese': 'mard serju',\n",
       "  'Norwegian': 'Alvorlig sykdom',\n",
       "  'Polish': 'Ciężka choroba',\n",
       "  'Portuguese': 'Doença grave',\n",
       "  'Romanian': 'Boală severă',\n",
       "  'Russian': 'Тяжелая болезнь\\n',\n",
       "  'Scots Gaelic': 'fìor ghalair',\n",
       "  'Serbian': 'тешка болест\\n',\n",
       "  'Slovak': 'Závažné ochorenie',\n",
       "  'Slovenian': 'huda bolezen',\n",
       "  'Spanish': 'enfermedad severa',\n",
       "  'Swedish': 'Allvarlig sjukdom',\n",
       "  'Tatar': 'каты авыру',\n",
       "  'Ukrainian': 'важка хвороба\\n',\n",
       "  'Welsh': 'clefyd difrifol',\n",
       "  'Yiddish': 'שטרענג קרענק',\n",
       "  'Armenian': 'ծանր հիվանդություն',\n",
       "  'Azerbaijani': 'ağır xəstəlik',\n",
       "  'Bengali': 'তীব্র রোগ',\n",
       "  'Chinese Simplified': '严重疾病\\n',\n",
       "  'Chinese Traditional': '嚴重疾病\\n',\n",
       "  'Georgian': 'მძიმე დაავადება',\n",
       "  'Gujarati': 'ગંભીર રોગ',\n",
       "  'Hindi': 'गंभीर बीमारी',\n",
       "  'Hmong': 'mob loj heev kab mob',\n",
       "  'Japanese': '重症疾患',\n",
       "  'Kannada': 'ತೀವ್ರ ರೋಗ',\n",
       "  'Kazakh': 'ауыр ауру',\n",
       "  'Khmer': 'ជំងឺធ្ងន់ធ្ងរ',\n",
       "  'Korean': '중증\\n',\n",
       "  'Kyrgyz': 'катуу оору',\n",
       "  'Lao': 'ພະຍາດຮ້າຍແຮງ',\n",
       "  'Malayalam': 'കഠിനമായ രോഗം',\n",
       "  'Marathi': 'गंभीर रोग',\n",
       "  'Mongolian': 'хүнд өвчин',\n",
       "  'Myanmar (Burmese)': 'ပြင်းထန်သောရောဂါ',\n",
       "  'Nepali': 'गंभीर रोग',\n",
       "  'Odia': 'ଭୟଙ୍କର ରୋଗ',\n",
       "  'Pashto': 'سخته ناروغي',\n",
       "  'Punjabi': 'ਗੰਭੀਰ ਬਿਮਾਰੀ',\n",
       "  'Sindhi': 'سخت مرض',\n",
       "  'Sinhala': 'රෝගය බරපතල',\n",
       "  'Tajik': 'бемории сахт',\n",
       "  'Tamil': 'கடுமையான நோய்',\n",
       "  'Telugu': 'తీవ్రమైన వ్యాధి',\n",
       "  'Thai': 'โรคร้ายแรง',\n",
       "  'Turkish': 'Ağır hastalık',\n",
       "  'Turkmen': 'agyr kesel',\n",
       "  'Urdu': 'شدید بیماری',\n",
       "  'Uyghur': 'ئېغىر كېسەل',\n",
       "  'Uzbek': 'qattiq kasallik',\n",
       "  'Vietnamese': 'Bệnh nặng',\n",
       "  'Arabic': 'مرض شديد\\n',\n",
       "  'Hebrew': 'מחלה קשה',\n",
       "  'Kurdish (Kurmanji)': 'nexweşiya giran',\n",
       "  'Persian': 'بیماری شدید',\n",
       "  'Afrikaans': 'Ernstige siekte',\n",
       "  'Amharic': 'ከባድ በሽታ',\n",
       "  'Chichewa': 'matenda aakulu',\n",
       "  'Hausa': 'tsanani cuta',\n",
       "  'Igbo': 'oké ọrịa',\n",
       "  'Kinyarwanda': 'indwara zikomeye',\n",
       "  'Sesotho': 'lefu haholo',\n",
       "  'Shona': 'chirwere chakakomba',\n",
       "  'Somali': 'cudur aad u daran',\n",
       "  'Swahili': 'ugonjwa mkali',\n",
       "  'Xhosa': 'isifo esibi',\n",
       "  'Yoruba': 'àìdá arun',\n",
       "  'Zulu': 'ezifweni ezimbi',\n",
       "  'Cebuano': 'grabe nga sakit',\n",
       "  'Filipino': 'malubhang sakit',\n",
       "  'Hawaiian': 'maʻi nui loa',\n",
       "  'Indonesian': 'Penyakit parah',\n",
       "  'Javanese': 'lelara',\n",
       "  'Malagasy': 'aretina mafy',\n",
       "  'Malay': 'penyakit yang teruk',\n",
       "  'Maori': 'mate kino',\n",
       "  'Samoan': 'faamai ogaoga',\n",
       "  'Sundanese': 'panyakit parna',\n",
       "  'Esperanto': 'severa malsano',\n",
       "  'Haitian Creole': 'maladi grav',\n",
       "  'Latin': 'gravibus morbus'}}"
      ]
     },
     "execution_count": 9,
     "metadata": {},
     "output_type": "execute_result"
    }
   ],
   "source": [
    "ourlist = list(finale)\n",
    "fyp = ourlist[:10]\n",
    "lit = [\"https://www.indifferentlanguages.com/words/opening_chapter\"]\n"
   ]
  },
  {
   "cell_type": "code",
   "execution_count": 6,
   "metadata": {},
   "outputs": [
    {
     "name": "stdout",
     "output_type": "stream",
     "text": [
      "{'severe_disease': {'categories': ['health_and_healthcare'], 'translations': {'Albanian': 'sëmundja e rëndë', 'Basque': 'gaixotasun larria', 'Belarusian': 'цяжкая хвароба', 'Bosnian': 'teška bolest', 'Bulgarian': 'Тежко заболяване', 'Catalan': 'malaltia greu', 'Corsican': 'malatia grave', 'Croatian': 'Teškim bolestima', 'Czech': 'Závažné onemocnění', 'Danish': 'Alvorlig sygdom', 'Dutch': 'Ernstige ziekte', 'Estonian': 'raske haigus', 'Finnish': 'vakava sairaus', 'French': 'Maladie grave', 'Frisian': 'slimme sykte', 'Galician': 'enfermidade grave', 'German': 'schlimme Krankheit', 'Greek': 'Σοβαρή ασθένεια\\n', 'Hungarian': 'súlyos betegség', 'Icelandic': 'Alvarleg sjúkdómur', 'Irish': 'galar trom', 'Italian': 'Grave malattia', 'Latvian': 'smaga slimība', 'Lithuanian': 'sunkus liga', 'Luxembourgish': 'schwéier Krankheet', 'Macedonian': 'тешка болест', 'Maltese': 'mard serju', 'Norwegian': 'Alvorlig sykdom', 'Polish': 'Ciężka choroba', 'Portuguese': 'Doença grave', 'Romanian': 'Boală severă', 'Russian': 'Тяжелая болезнь\\n', 'Scots Gaelic': 'fìor ghalair', 'Serbian': 'тешка болест\\n', 'Slovak': 'Závažné ochorenie', 'Slovenian': 'huda bolezen', 'Spanish': 'enfermedad severa', 'Swedish': 'Allvarlig sjukdom', 'Tatar': 'каты авыру', 'Ukrainian': 'важка хвороба\\n', 'Welsh': 'clefyd difrifol', 'Yiddish': 'שטרענג קרענק', 'Armenian': 'ծանր հիվանդություն', 'Azerbaijani': 'ağır xəstəlik', 'Bengali': 'তীব্র রোগ', 'Chinese Simplified': '严重疾病\\n', 'Chinese Traditional': '嚴重疾病\\n', 'Georgian': 'მძიმე დაავადება', 'Gujarati': 'ગંભીર રોગ', 'Hindi': 'गंभीर बीमारी', 'Hmong': 'mob loj heev kab mob', 'Japanese': '重症疾患', 'Kannada': 'ತೀವ್ರ ರೋಗ', 'Kazakh': 'ауыр ауру', 'Khmer': 'ជំងឺធ្ងន់ធ្ងរ', 'Korean': '중증\\n', 'Kyrgyz': 'катуу оору', 'Lao': 'ພະຍາດຮ້າຍແຮງ', 'Malayalam': 'കഠിനമായ രോഗം', 'Marathi': 'गंभीर रोग', 'Mongolian': 'хүнд өвчин', 'Myanmar (Burmese)': 'ပြင်းထန်သောရောဂါ', 'Nepali': 'गंभीर रोग', 'Odia': 'ଭୟଙ୍କର ରୋଗ', 'Pashto': 'سخته ناروغي', 'Punjabi': 'ਗੰਭੀਰ ਬਿਮਾਰੀ', 'Sindhi': 'سخت مرض', 'Sinhala': 'රෝගය බරපතල', 'Tajik': 'бемории сахт', 'Tamil': 'கடுமையான நோய்', 'Telugu': 'తీవ్రమైన వ్యాధి', 'Thai': 'โรคร้ายแรง', 'Turkish': 'Ağır hastalık', 'Turkmen': 'agyr kesel', 'Urdu': 'شدید بیماری', 'Uyghur': 'ئېغىر كېسەل', 'Uzbek': 'qattiq kasallik', 'Vietnamese': 'Bệnh nặng', 'Arabic': 'مرض شديد\\n', 'Hebrew': 'מחלה קשה', 'Kurdish (Kurmanji)': 'nexweşiya giran', 'Persian': 'بیماری شدید', 'Afrikaans': 'Ernstige siekte', 'Amharic': 'ከባድ በሽታ', 'Chichewa': 'matenda aakulu', 'Hausa': 'tsanani cuta', 'Igbo': 'oké ọrịa', 'Kinyarwanda': 'indwara zikomeye', 'Sesotho': 'lefu haholo', 'Shona': 'chirwere chakakomba', 'Somali': 'cudur aad u daran', 'Swahili': 'ugonjwa mkali', 'Xhosa': 'isifo esibi', 'Yoruba': 'àìdá arun', 'Zulu': 'ezifweni ezimbi', 'Cebuano': 'grabe nga sakit', 'Filipino': 'malubhang sakit', 'Hawaiian': 'maʻi nui loa', 'Indonesian': 'Penyakit parah', 'Javanese': 'lelara', 'Malagasy': 'aretina mafy', 'Malay': 'penyakit yang teruk', 'Maori': 'mate kino', 'Samoan': 'faamai ogaoga', 'Sundanese': 'panyakit parna', 'Esperanto': 'severa malsano', 'Haitian Creole': 'maladi grav', 'Latin': 'gravibus morbus'}}, 'anesthetize': {'categories': ['health_and_healthcare'], 'translations': {'Albanian': 'bëj anestezinë', 'Basque': 'Anesthetize', 'Belarusian': 'анестезировать', 'Bosnian': 'anestezirati', 'Bulgarian': 'обезболявам', 'Catalan': 'anestesiar', 'Corsican': 'anestesià', 'Croatian': 'anestezirati', 'Czech': 'Anestetizovat', 'Danish': 'bedøver', 'Dutch': 'verdoven', 'Estonian': 'anesteseerima', 'Finnish': 'Puuduta', 'French': 'anesthésier', 'Frisian': 'ferdôvjen', 'Galician': 'anestesiar', 'German': 'betäuben', 'Greek': 'καθιστώ αναίσθητο\\n', 'Hungarian': 'érzéstelenít', 'Icelandic': 'Anesthetize', 'Irish': 'anesthetize', 'Italian': 'anestetizzare', 'Latvian': 'anestezēt', 'Lithuanian': 'apmarinti', 'Luxembourgish': 'anästheséieren', 'Macedonian': 'anesthetize', 'Maltese': 'anesthetize', 'Norwegian': 'bedøve', 'Polish': 'uśpić', 'Portuguese': 'anestesiar', 'Romanian': 'anestezia', 'Russian': 'анестезировать\\n', 'Scots Gaelic': 'anesthetize', 'Serbian': 'анестезирати\\n', 'Slovak': 'zanestetizovat', 'Slovenian': 'Anestezirati', 'Spanish': 'anestesiar', 'Swedish': 'bedöva', 'Tatar': 'наркоз', 'Ukrainian': 'анестезувати\\n', 'Welsh': 'anesthetize', 'Yiddish': 'אַנעסטהעטיזע', 'Armenian': 'թմրեցնում', 'Azerbaijani': 'hissizləşdirmək', 'Bengali': 'বেদনাহীন করা', 'Chinese Simplified': '麻醉\\n', 'Chinese Traditional': '麻醉\\n', 'Georgian': 'anesthetize', 'Gujarati': 'anesthetize', 'Hindi': 'चतनाशून्य करना', 'Hmong': 'anesthetize', 'Japanese': '麻酔する', 'Kannada': 'anesthetize', 'Kazakh': 'анестезиясы', 'Khmer': 'anesthetize', 'Korean': '마취하다\\n', 'Kyrgyz': 'наркоз', 'Lao': 'anesthetize', 'Malayalam': 'അനെസ്ഥെതിജെ', 'Marathi': 'anesthetize', 'Mongolian': 'мэдээгүйжүүлнэ', 'Myanmar (Burmese)': 'anesthetize', 'Nepali': 'anesthetize', 'Odia': 'ଆନାସ୍ଥେଟାଇଜ୍', 'Pashto': 'تغذیه کول', 'Punjabi': 'ਅਨੱਸਥੀਸੀਆ', 'Sindhi': 'آرام ڪرڻ', 'Sinhala': 'anesthetize', 'Tajik': 'anesthetize', 'Tamil': 'anesthetize', 'Telugu': 'anesthetize', 'Thai': 'ทำให้หมดความรู้สึก', 'Turkish': 'uyutmak', 'Turkmen': 'anestizasiýa', 'Urdu': 'anesthetize', 'Uyghur': 'anesthetize', 'Uzbek': 'sizlantiruvchi', 'Vietnamese': 'Gây tê', 'Arabic': 'خدر\\n', 'Hebrew': 'לְהַרְדִים', 'Kurdish (Kurmanji)': 'anesthetîze kirin', 'Persian': 'بی هوش کردن', 'Afrikaans': 'verdoof', 'Amharic': 'ማደንዘዣ', 'Chichewa': 'anesthetize', 'Hausa': 'anesthetize', 'Igbo': 'anesthetize', 'Kinyarwanda': 'anesthetize', 'Sesotho': 'anesthetize', 'Shona': 'anesthetize', 'Somali': 'anesthetize', 'Swahili': 'ganzi', 'Xhosa': 'yenza iintlungu', 'Yoruba': 'anesthetize', 'Zulu': 'anesthetize', 'Cebuano': 'anesthetize', 'Filipino': 'anesthetize', 'Hawaiian': 'anesthetize', 'Indonesian': 'membius', 'Javanese': 'anesthetize', 'Malagasy': 'anesthetize', 'Malay': 'membius', 'Maori': 'anesthetize', 'Samoan': 'faʻagamu vai', 'Sundanese': 'ngabius', 'Esperanto': 'anesthetize', 'Haitian Creole': 'andòmi', 'Latin': 'anesthetize'}}, 'provide_resources': {'categories': ['general'], 'translations': {'Albanian': 'siguruar burime', 'Basque': 'baliabideak ematen', 'Belarusian': 'прадастаўляць рэсурсы', 'Bosnian': 'osigurati sredstva', 'Bulgarian': 'Предоставят ресурси', 'Catalan': 'proporcionar recursos', 'Corsican': 'furnisce risorse', 'Croatian': 'Osigurati resurse', 'Czech': 'Poskytnout zdroje', 'Danish': 'Tilvejebringe ressourcer', 'Dutch': 'Middelen leveren', 'Estonian': 'tagama ressursid', 'Finnish': 'tarjota resursseja', 'French': 'Fournir des ressources', 'Frisian': 'boarnen leverje', 'Galician': 'proporcionar recursos', 'German': 'Ressourcen zur Verfügung stellen', 'Greek': 'Παρέχουν πόρους\\n', 'Hungarian': 'forrásokat biztosítani', 'Icelandic': 'Veita auðlindir', 'Irish': 'acmhainní a chur ar fáil', 'Italian': 'Fornire risorse', 'Latvian': 'nodrošināt resursus', 'Lithuanian': 'suteikti išteklius', 'Luxembourgish': 'Ressourcen zur Verfügung stellen', 'Macedonian': 'обезбеди средства', 'Maltese': 'jipprovdu riżorsi', 'Norwegian': 'Gi ressurser', 'Polish': 'Dostarczać zasobów', 'Portuguese': 'Fornecer recursos', 'Romanian': 'Asigurarea resurselor', 'Russian': 'Предоставлять ресурсы\\n', 'Scots Gaelic': 'toirt seachad goireasan', 'Serbian': 'обезбеђује средства\\n', 'Slovak': 'Poskytnúť zdroje', 'Slovenian': 'zagotoviti sredstva', 'Spanish': 'Proporcionar recursos', 'Swedish': 'Tillhandahålla resurser', 'Tatar': 'ресурслар белән тәэмин итү', 'Ukrainian': 'надавати ресурси\\n', 'Welsh': 'darparu adnoddau', 'Yiddish': 'צושטעלן רעסורסן', 'Armenian': 'ապահովել ռեսուրսներ', 'Azerbaijani': 'resursları təmin', 'Bengali': 'সম্পদ প্রদান', 'Chinese Simplified': '提供资源\\n', 'Chinese Traditional': '提供資源\\n', 'Georgian': 'რესურსები', 'Gujarati': 'સંસાધનો પ્રદાન', 'Hindi': 'संसाधन प्रदान करें', 'Hmong': 'muab kev pab', 'Japanese': 'リソースを提供する', 'Kannada': 'ಸಂಪನ್ಮೂಲಗಳನ್ನು ಒದಗಿಸಲು', 'Kazakh': 'ресурстарды қамтамасыз', 'Khmer': 'ផ្ដល់ធនធាន', 'Korean': '자원을 제공하다\\n', 'Kyrgyz': 'ресурстар менен камсыз кылуу', 'Lao': 'ໃຫ້ຊັບພະຍາກອນ', 'Malayalam': 'വിഭവങ്ങൾ നൽകാൻ', 'Marathi': 'संसाधने प्रदान', 'Mongolian': 'эх үүсвэрийг хангах', 'Myanmar (Burmese)': 'သယံဇာတရင်းမြစ်များကို', 'Nepali': 'स्रोतहरू प्रदान', 'Odia': 'ଉତ୍ସଗୁଡିକ ପ୍ରଦାନ କରନ୍ତୁ |', 'Pashto': 'سرچینې چمتو کړئ', 'Punjabi': 'ਸਰੋਤ ਮੁਹੱਈਆ', 'Sindhi': 'وسيلا فراهم ڪريو', 'Sinhala': 'සම්පත් ලබා', 'Tajik': 'таъмин намудани захирањои', 'Tamil': 'வளங்களை வழங்க', 'Telugu': 'వనరులను అందించడానికి', 'Thai': 'จัดหาทรัพยากร', 'Turkish': 'Kaynak sağlamak', 'Turkmen': 'çeşmeleri bilen üpjün ediň', 'Urdu': 'وسائل فراہم', 'Uyghur': 'بايلىق بىلەن تەمىنلەيدۇ', 'Uzbek': \"resurslari bilan ta'minlash\", 'Vietnamese': 'Cung cấp tài nguyên', 'Arabic': 'توفير الموارد\\n', 'Hebrew': 'לספק משאבים', 'Kurdish (Kurmanji)': 'çavkaniyan peyda dikin', 'Persian': 'ارائه منابع', 'Afrikaans': 'Verskaf hulpbronne', 'Amharic': 'ሀብቶችን ያቅርቡ', 'Chichewa': 'kupereka chuma', 'Hausa': 'samar da albarkatun', 'Igbo': 'enye ego', 'Kinyarwanda': 'gutanga ibikoresho', 'Sesotho': 'fana ka mehlodi ya', 'Shona': 'kupa zviwanikwa', 'Somali': 'fidiya agabyo', 'Swahili': 'kutoa rasilimali', 'Xhosa': 'bonelela ngezixhobo', 'Yoruba': 'pese oro', 'Zulu': 'ukunikeza izinsiza', 'Cebuano': 'paghatag og mga kapanguhaan', 'Filipino': 'magbigay ng mga mapagkukunan', 'Hawaiian': 'hāʻawi i nā kumuwaiwai', 'Indonesian': 'Menyediakan sumber daya', 'Javanese': 'nyedhiyani sumber', 'Malagasy': 'manome fitaovana', 'Malay': 'menyediakan sumber', 'Maori': 'whakarato rauemi', 'Samoan': 'saunia punaoa', 'Sundanese': 'nyayogikeun sumberdaya', 'Esperanto': 'disponigi rimedojn', 'Haitian Creole': 'bay resous', 'Latin': 'opibus providere'}}, 'musket': {'categories': ['law_and_security'], 'translations': {'Albanian': 'mushqetë', 'Basque': 'moskete', 'Belarusian': 'мушкет', 'Bosnian': 'mušketa', 'Bulgarian': 'мускет', 'Catalan': 'mosquet', 'Corsican': 'muschettu', 'Croatian': 'mušketa', 'Czech': 'mušketa', 'Danish': 'musket', 'Dutch': 'musket', 'Estonian': 'musket', 'Finnish': 'musketti', 'French': 'mousquet', 'Frisian': 'musket', 'Galician': 'mosquete', 'German': 'Muskete', 'Greek': 'μουσκέτο\\n', 'Hungarian': 'muskéta', 'Icelandic': 'Musket', 'Irish': 'muscaeid', 'Italian': 'moschetto', 'Latvian': 'muskete', 'Lithuanian': 'muškieta', 'Luxembourgish': 'musket', 'Macedonian': 'мускет', 'Maltese': 'musket', 'Norwegian': 'muskett', 'Polish': 'muszkiet', 'Portuguese': 'mosquete', 'Romanian': 'muschetă', 'Russian': 'мушкет\\n', 'Scots Gaelic': 'cuilbheir', 'Serbian': 'мускета\\n', 'Slovak': 'mušketa', 'Slovenian': 'mušketo', 'Spanish': 'mosquete', 'Swedish': 'musköt', 'Tatar': 'мушкет', 'Ukrainian': 'мушкет\\n', 'Welsh': 'mwsged', 'Yiddish': 'מוסקעט', 'Armenian': 'մուշկետ', 'Azerbaijani': 'musket', 'Bengali': 'গাদাবন্দুক', 'Chinese Simplified': '滑膛枪\\n', 'Chinese Traditional': '滑膛槍\\n', 'Georgian': 'musket', 'Gujarati': 'બંદૂકની', 'Hindi': 'बंदूक', 'Hmong': 'musket', 'Japanese': 'マスケット', 'Kannada': 'ಹಗುರ ಬಂದೂಕು', 'Kazakh': 'мушкет', 'Khmer': 'musket', 'Korean': '소총\\n', 'Kyrgyz': 'мушкет', 'Lao': 'ປືນຄາບສິລາ', 'Malayalam': 'മുസ്കെത്', 'Marathi': 'जुन्या प्रकारची चापाची बंदुक', 'Mongolian': 'Мушкет', 'Myanmar (Burmese)': 'များသည်သေနတ်ကိုင်တပ်သား', 'Nepali': 'musket', 'Odia': 'ମୁସ୍କେଟ |', 'Pashto': 'ټوپک', 'Punjabi': 'ਮਸਕਟ', 'Sindhi': 'پketاڻ', 'Sinhala': 'musket', 'Tajik': 'musket', 'Tamil': 'துப்பாக்கிக்', 'Telugu': 'భుజాన వేసుకోని', 'Thai': 'ปืนคาบศิลา', 'Turkish': 'misket tüfeği', 'Turkmen': 'musket', 'Urdu': 'بندوق', 'Uyghur': 'musket', 'Uzbek': 'miltiq', 'Vietnamese': 'Súng đạn', 'Arabic': 'بندقية قديمة\\n', 'Hebrew': 'מוּסקֶט', 'Kurdish (Kurmanji)': 'musket', 'Persian': 'تفنگ فتیلهای', 'Afrikaans': 'geweer', 'Amharic': 'ማስቲክ', 'Chichewa': 'musket', 'Hausa': 'musket', 'Igbo': 'musket', 'Kinyarwanda': 'musket', 'Sesotho': 'musket', 'Shona': 'musket', 'Somali': 'musket', 'Swahili': 'musket', 'Xhosa': 'imusket', 'Yoruba': 'musket', 'Zulu': 'musket', 'Cebuano': 'luthang', 'Filipino': 'maskit', 'Hawaiian': 'musket', 'Indonesian': 'Musket', 'Javanese': 'musket', 'Malagasy': 'musket', 'Malay': 'musket', 'Maori': 'pū', 'Samoan': 'musket', 'Sundanese': 'musket', 'Esperanto': 'muskedo', 'Haitian Creole': 'mouskè', 'Latin': 'musket'}}, 'neigh': {'categories': ['animals'], 'translations': {'Albanian': 'hingëllin', 'Basque': 'neigh', 'Belarusian': 'ржаць', 'Bosnian': 'njištati', 'Bulgarian': 'цвилене', 'Catalan': 'renill', 'Corsican': 'vicinu', 'Croatian': 'njištanje', 'Czech': 'ržání', 'Danish': 'vrinske', 'Dutch': 'hinniken', 'Estonian': 'hirnuma', 'Finnish': 'hirnahdus', 'French': 'hennir', 'Frisian': 'neigh', 'Galician': 'relincho', 'German': 'wiehern', 'Greek': 'χλιμίντρισμα\\n', 'Hungarian': 'nyerít', 'Icelandic': 'Neigh', 'Irish': 'neigh', 'Italian': 'nitrire', 'Latvian': 'zviegt', 'Lithuanian': 'žvengimas', 'Luxembourgish': 'Nopesch', 'Macedonian': 'Елено', 'Maltese': 'ġirien', 'Norwegian': 'vrinsk', 'Polish': 'rżeć', 'Portuguese': 'relinchar', 'Romanian': 'nechezat', 'Russian': 'ржать\\n', 'Scots Gaelic': 'nàbaidh', 'Serbian': 'њиштати\\n', 'Slovak': 'erdžať', 'Slovenian': 'Njištati', 'Spanish': 'relinchar', 'Swedish': 'gnägga', 'Tatar': 'күрше', 'Ukrainian': 'іржати\\n', 'Welsh': 'neigh', 'Yiddish': 'נעיגה', 'Armenian': 'խրխնջոց', 'Azerbaijani': 'kişnəmək', 'Bengali': 'হ্রেষাধ্বনি', 'Chinese Simplified': '嘶\\n', 'Chinese Traditional': '嘶\\n', 'Georgian': 'neigh', 'Gujarati': 'ઘોડાનો હણહણાટ', 'Hindi': 'हिनहिनाना', 'Hmong': 'neigh', 'Japanese': 'いななき', 'Kannada': 'ಹೇಷಾರವ', 'Kazakh': 'ржут', 'Khmer': 'neigh', 'Korean': '울다\\n', 'Kyrgyz': 'кош', 'Lao': 'neighing', 'Malayalam': 'നെഇഘ്', 'Marathi': 'खिंकाळणे', 'Mongolian': 'neigh', 'Myanmar (Burmese)': 'neigh', 'Nepali': 'neigh', 'Odia': 'ପଡୋଶୀ', 'Pashto': 'خندا', 'Punjabi': 'ਹੱਸੋ', 'Sindhi': 'پاڙيسري', 'Sinhala': 'neigh', 'Tajik': 'neigh', 'Tamil': 'குதிரை போல் கணை', 'Telugu': 'సకిలింపు', 'Thai': 'ฮี้', 'Turkish': 'kişneme', 'Turkmen': 'goňşy', 'Urdu': 'ہنہنانا', 'Uyghur': 'قوشنىسى', 'Uzbek': 'kishnamoq', 'Vietnamese': 'Gần', 'Arabic': 'صهيل\\n', 'Hebrew': 'לִצְהוֹל', 'Kurdish (Kurmanji)': 'cîran', 'Persian': 'شیهه کشیدن', 'Afrikaans': 'runnik julle', 'Amharic': 'ጎረቤት', 'Chichewa': 'amamemesa', 'Hausa': 'neigh', 'Igbo': 'neigh', 'Kinyarwanda': 'umuturanyi', 'Sesotho': 'neigh', 'Shona': 'neigh', 'Somali': 'danantaan', 'Swahili': 'mnalia', 'Xhosa': 'sondeza', 'Yoruba': 'neigh', 'Zulu': 'uyiyizela', 'Cebuano': 'mobahihi', 'Filipino': 'humalinghing', 'Hawaiian': 'hoalauna', 'Indonesian': 'meringkik', 'Javanese': 'neigh', 'Malagasy': 'neigh', 'Malay': 'meringkik', 'Maori': 'tangi ana', 'Samoan': 'tuaoi', 'Sundanese': 'tatangga', 'Esperanto': 'neigh', 'Haitian Creole': 'vwazen Apre sa', 'Latin': 'mugistis'}}, 'cataract': {'categories': ['health_and_healthcare'], 'translations': {'Albanian': 'katarakt', 'Basque': 'katarata', 'Belarusian': 'катаракта', 'Bosnian': 'vodopad', 'Bulgarian': 'катаракт', 'Catalan': 'cataracta', 'Corsican': 'cataratta', 'Croatian': 'katarakt', 'Czech': 'šedý zákal', 'Danish': 'grå stær', 'Dutch': 'staar', 'Estonian': 'läätsekae', 'Finnish': 'kaihi', 'French': 'cataracte', 'Frisian': 'katarakt', 'Galician': 'catarata', 'German': 'Katarakt', 'Greek': 'καταρράκτης\\n', 'Hungarian': 'vízesés', 'Icelandic': 'Drer', 'Irish': 'catarachta', 'Italian': 'cataratta', 'Latvian': 'katarakta', 'Lithuanian': 'katarakta', 'Luxembourgish': 'Katarakt', 'Macedonian': 'катаракта', 'Maltese': 'katarretti', 'Norwegian': 'grå stær', 'Polish': 'zaćma', 'Portuguese': 'catarata', 'Romanian': 'cataractă', 'Russian': 'катаракта\\n', 'Scots Gaelic': 'cataract', 'Serbian': 'катаракта\\n', 'Slovak': 'šedý zákal', 'Slovenian': 'katarakta', 'Spanish': 'catarata', 'Swedish': 'grå starr', 'Tatar': 'катаракт', 'Ukrainian': 'катаракта\\n', 'Welsh': 'cataract', 'Yiddish': 'קאַטאַראַקט', 'Armenian': 'սահանք', 'Azerbaijani': 'katarakt', 'Bengali': 'ছানি', 'Chinese Simplified': '白内障\\n', 'Chinese Traditional': '白內障\\n', 'Georgian': 'კატარაქტის', 'Gujarati': 'મોતિયાની', 'Hindi': 'मोतियाबिंद', 'Hmong': 'cataract', 'Japanese': '白内障', 'Kannada': 'ಕಣ್ಣಿನ ಪೊರೆಯ', 'Kazakh': 'катаракта', 'Khmer': 'ជំងឺភ្នែកឡើងបាយ', 'Korean': '백내장\\n', 'Kyrgyz': 'катаракта', 'Lao': 'cataract', 'Malayalam': 'തിമിരം', 'Marathi': 'मोतीबिंदू', 'Mongolian': 'Катаракт', 'Myanmar (Burmese)': 'အတွင်းတိမ်', 'Nepali': 'cataract', 'Odia': 'ମୋତିଆବିନ୍ଦୁ |', 'Pashto': 'مړينه', 'Punjabi': 'ਮੋਤੀਆ', 'Sindhi': 'ناريل', 'Sinhala': 'ඇසේ සුද ඉවත් කිරීමේ', 'Tajik': 'cataract', 'Tamil': 'கண்புரை', 'Telugu': 'కేటరాక్ట్', 'Thai': 'ต้อกระจก', 'Turkish': 'katarakt', 'Turkmen': 'katarakt', 'Urdu': 'موتیابند', 'Uyghur': 'كۆزگە ئاق چۈشۈش', 'Uzbek': 'katarakta', 'Vietnamese': 'Đục thủy tinh thể', 'Arabic': 'الساد\\n', 'Hebrew': 'קָטָרַקט', 'Kurdish (Kurmanji)': 'katarakt', 'Persian': 'آب مروارید', 'Afrikaans': 'katarak', 'Amharic': 'የዓይን ሞራ ግርዶሽ', 'Chichewa': 'mathithi', 'Hausa': 'cataract', 'Igbo': 'cataract', 'Kinyarwanda': 'cataract', 'Sesotho': 'cataract', 'Shona': 'cataract', 'Somali': 'cataract', 'Swahili': 'mtoto wa jicho', 'Xhosa': 'ngamehlo', 'Yoruba': 'cataract', 'Zulu': 'cataract', 'Cebuano': 'cataract', 'Filipino': 'katarata', 'Hawaiian': 'cataract', 'Indonesian': 'katarak', 'Javanese': 'cataract', 'Malagasy': 'cataract', 'Malay': 'katarak', 'Maori': 'pokonga', 'Samoan': 'katala', 'Sundanese': 'katarak', 'Esperanto': 'katarakto', 'Haitian Creole': 'katarak', 'Latin': 'suffusio'}}, 'dual-purpose': {'categories': ['general'], 'translations': {'Albanian': 'dual-qëllim', 'Basque': 'helburu bikoitza', 'Belarusian': 'падвойнае прызначэнне', 'Bosnian': 'dual-purpose', 'Bulgarian': 'с двойно предназначение', 'Catalan': 'De doble propòsit', 'Corsican': 'duppu scopu', 'Croatian': 'dvojne namjene', 'Czech': 'Dvouúčelové', 'Danish': 'dobbelt formål', 'Dutch': 'dubbel doel', 'Estonian': 'mitmeotstarbeliste', 'Finnish': 'kaksitoiminen', 'French': 'double usage', 'Frisian': 'dûbelddoel', 'Galician': 'dual-purpose', 'German': 'Doppelzweck', 'Greek': 'διπλός σκοπός\\n', 'Hungarian': 'kettős cél', 'Icelandic': 'Tvískiptur tilgangur', 'Irish': 'dhá fheidhm', 'Italian': 'duplice scopo', 'Latvian': 'dual-nolūks', 'Lithuanian': 'dvigubos paskirties', 'Luxembourgish': 'Duebelzweck', 'Macedonian': 'двојна намена', 'Maltese': 'skop doppju', 'Norwegian': 'dobbelt-formåls', 'Polish': 'podwójny cel', 'Portuguese': 'duplo proposito', 'Romanian': 'dublu scop', 'Russian': 'двойная цель\\n', 'Scots Gaelic': 'dà-adhbhar', 'Serbian': 'двострука сврха\\n', 'Slovak': 'Dvojúčelový', 'Slovenian': 'z dvojno rabo', 'Spanish': 'proposito doble', 'Swedish': 'dubbla syften', 'Tatar': 'икеләтә максат', 'Ukrainian': 'подвійне призначення\\n', 'Welsh': 'deuol-bwrpas', 'Yiddish': 'צווייענדיק-ציל', 'Armenian': 'երկակի նշանակության', 'Azerbaijani': 'ikili təyinatlı', 'Bengali': 'দ্বৈত উদ্দেশ্য', 'Chinese Simplified': '两用\\n', 'Chinese Traditional': '兩用\\n', 'Georgian': 'ორმაგი დანიშნულების', 'Gujarati': 'દ્વિઉદ્દેશીય', 'Hindi': 'विभिन्न इस्तेमाल', 'Hmong': 'dual-lub hom phiaj', 'Japanese': '二重目的', 'Kannada': 'ಉಭಯ ಉದ್ದೇಶದ', 'Kazakh': 'екі ұдай', 'Khmer': '-គោលបំណងពីរ', 'Korean': '이중 용도\\n', 'Kyrgyz': 'кош максаттуу', 'Lao': 'ສອງຈຸດປະສົງ', 'Malayalam': 'ഡ്യുവൽ-ഉദ്ദേശ്യം', 'Marathi': 'दुहेरी हेतू', 'Mongolian': 'давхар зорилго нь', 'Myanmar (Burmese)': 'Dual-ရည်ရွယ်ချက်', 'Nepali': 'दोहरी-उद्देश्य', 'Odia': 'ଦ୍ୱି-ଉଦ୍ଦେଶ୍ୟ |', 'Pashto': 'دوه ګونی مقصد', 'Punjabi': 'ਦੋਹਰਾ-ਉਦੇਸ਼', 'Sindhi': 'ٻٽو مقصد', 'Sinhala': 'ද්විත්ව කාර්ය', 'Tajik': 'дугона, бо мақсади', 'Tamil': 'இரட்டை நோக்கம்', 'Telugu': 'ద్వంద్వ ప్రయోజన', 'Thai': 'วัตถุประสงค์', 'Turkish': 'iki amaçlı', 'Turkmen': 'goşa maksatly', 'Urdu': 'ڈبل مقصد', 'Uyghur': 'قوش مەقسەت', 'Uzbek': 'dual-maqsadi', 'Vietnamese': 'Mục đích kép', 'Arabic': 'ثنائي الغرض\\n', 'Hebrew': 'מטרה כפולה', 'Kurdish (Kurmanji)': 'du-armanc', 'Persian': 'دو منظوره', 'Afrikaans': 'dubbeldoel-', 'Amharic': 'ባለ ሁለት ዓላማ', 'Chichewa': 'wapawiri-cholinga', 'Hausa': 'dual-manufa', 'Igbo': 'sọrọ-nzube', 'Kinyarwanda': 'intego-ebyiri', 'Sesotho': 'kopanetsoe-morero oa', 'Shona': 'mbiri-chinangwa', 'Somali': 'dual-Ujeedada', 'Swahili': 'dual-kusudi', 'Xhosa': 'injongo-mbini', 'Yoruba': 'meji-idi', 'Zulu': 'ezimbili-injongo', 'Cebuano': 'dual-katuyoan', 'Filipino': 'dual-purpose', 'Hawaiian': 'kumu-pālua', 'Indonesian': 'tujuan ganda', 'Javanese': 'dual-waé', 'Malagasy': 'lafiny roa-tanjona', 'Malay': 'dual-purpose', 'Maori': '-Whakaaro rua', 'Samoan': 'lua-faʻamoemoega', 'Sundanese': 'dua-tujuan', 'Esperanto': 'duobla celo', 'Haitian Creole': 'double-bi', 'Latin': 'ad dual-'}}, 'portrait': {'categories': ['visual_arts'], 'translations': {'Albanian': 'portret', 'Basque': 'erretratu', 'Belarusian': 'партрэт', 'Bosnian': 'portret', 'Bulgarian': 'портрет', 'Catalan': 'retrat', 'Corsican': 'ritrattu', 'Croatian': 'portret', 'Czech': 'portrét', 'Danish': 'portræt', 'Dutch': 'portret', 'Estonian': 'portree', 'Finnish': 'muotokuva', 'French': 'portrait', 'Frisian': 'portret', 'Galician': 'retrato', 'German': 'Porträt', 'Greek': 'πορτρέτο\\n', 'Hungarian': 'portré', 'Icelandic': 'Portrett', 'Irish': 'portráid', 'Italian': 'ritratto', 'Latvian': 'portrets', 'Lithuanian': 'portretas', 'Luxembourgish': 'Portrait', 'Macedonian': 'портрет', 'Maltese': 'ritratt', 'Norwegian': 'portrett', 'Polish': 'portret', 'Portuguese': 'retrato', 'Romanian': 'portret', 'Russian': 'портрет\\n', 'Scots Gaelic': 'dealbh', 'Serbian': 'портрет\\n', 'Slovak': 'portrét', 'Slovenian': 'portret', 'Spanish': 'retrato', 'Swedish': 'porträtt', 'Tatar': 'портрет', 'Ukrainian': 'портрет\\n', 'Welsh': 'portread', 'Yiddish': 'פּאָרטרעט', 'Armenian': 'դիմանկար', 'Azerbaijani': 'portret', 'Bengali': 'প্রতিকৃতি', 'Chinese Simplified': '肖像\\n', 'Chinese Traditional': '肖像\\n', 'Georgian': 'პორტრეტი', 'Gujarati': 'પોટ્રેટ', 'Hindi': 'चित्र', 'Hmong': 'portrait', 'Japanese': 'ポートレート', 'Kannada': 'ಭಾವಚಿತ್ರ', 'Kazakh': 'портрет', 'Khmer': 'បញ្ឈរ', 'Korean': '초상화\\n', 'Kyrgyz': 'портрет', 'Lao': 'ຮູບ', 'Malayalam': 'ഛായാചിത്രം', 'Marathi': 'पोर्ट्रेट', 'Mongolian': 'хөрөг', 'Myanmar (Burmese)': 'ပုံတူ', 'Nepali': 'पोर्ट्रेट', 'Odia': 'ଚିତ୍ର', 'Pashto': 'انځور', 'Punjabi': 'ਪੋਰਟਰੇਟ', 'Sindhi': 'پورٽريٽ', 'Sinhala': 'චිත්රයක්', 'Tajik': 'портрет', 'Tamil': 'உருவப்படம்', 'Telugu': 'చిత్తరువు', 'Thai': 'ภาพเหมือน', 'Turkish': 'portre', 'Turkmen': 'portret', 'Urdu': 'پورٹریٹ', 'Uyghur': 'سۈرەت', 'Uzbek': 'portreti', 'Vietnamese': 'Chân dung', 'Arabic': 'صورة\\n', 'Hebrew': 'דְיוֹקָן', 'Kurdish (Kurmanji)': 'portreya', 'Persian': 'پرتره', 'Afrikaans': 'portret', 'Amharic': 'የቁም ስዕል', 'Chichewa': 'chithunzi', 'Hausa': 'hoto', 'Igbo': 'Eserese', 'Kinyarwanda': 'amashusho', 'Sesotho': 'potreite', 'Shona': 'mufananidzo', 'Somali': 'sawirka', 'Swahili': 'picha', 'Xhosa': 'umzobo', 'Yoruba': 'aworan', 'Zulu': 'portrait', 'Cebuano': 'hulagway', 'Filipino': 'larawan', 'Hawaiian': 'kiʻi paʻi kiʻi', 'Indonesian': 'potret', 'Javanese': 'mujur', 'Malagasy': 'Mombamomba ny mpanoratra', 'Malay': 'potret', 'Maori': 'poutū', 'Samoan': 'ata', 'Sundanese': 'potrét', 'Esperanto': 'portreto', 'Haitian Creole': 'pòtrè', 'Latin': 'effigies'}}, 'parallel': {'categories': ['general'], 'translations': {'Albanian': 'paralel', 'Basque': 'paraleloa', 'Belarusian': 'паралельна', 'Bosnian': 'paralelno', 'Bulgarian': 'паралелен', 'Catalan': 'paral·lel', 'Corsican': 'parallelu', 'Croatian': 'paralelno', 'Czech': 'paralelní', 'Danish': 'parallel', 'Dutch': 'parallel', 'Estonian': 'paralleelne', 'Finnish': 'rinnakkainen', 'French': 'parallèle', 'Frisian': 'parallel', 'Galician': 'paralelo', 'German': 'parallel', 'Greek': 'παράλληλο\\n', 'Hungarian': 'párhuzamos', 'Icelandic': 'Samsíða', 'Irish': 'comhthreomhar', 'Italian': 'parallelo', 'Latvian': 'paralēle', 'Lithuanian': 'lygiagretus', 'Luxembourgish': 'parallel', 'Macedonian': 'паралелно', 'Maltese': 'parallel', 'Norwegian': 'parallell', 'Polish': 'równolegle', 'Portuguese': 'paralelo', 'Romanian': 'paralel', 'Russian': 'параллельно\\n', 'Scots Gaelic': 'co-shìnte', 'Serbian': 'паралелно\\n', 'Slovak': 'paralelné', 'Slovenian': 'vzporedno', 'Spanish': 'paralela', 'Swedish': 'parallell', 'Tatar': 'параллель', 'Ukrainian': 'паралельно\\n', 'Welsh': 'cyfochrog', 'Yiddish': 'פּאַראַלעל', 'Armenian': 'զուգահեռ', 'Azerbaijani': 'paralel', 'Bengali': 'সমান্তরাল', 'Chinese Simplified': '平行\\n', 'Chinese Traditional': '平行\\n', 'Georgian': 'პარალელურად', 'Gujarati': 'સમાંતર', 'Hindi': 'समानांतर', 'Hmong': 'thaum uas tig mus', 'Japanese': '平行', 'Kannada': 'ಸಮಾನಾಂತರವಾಗಿ', 'Kazakh': 'параллель', 'Khmer': 'ស្រប', 'Korean': '평행\\n', 'Kyrgyz': 'параллель', 'Lao': 'ຂະຫນານ', 'Malayalam': 'സമാന്തരമായ', 'Marathi': 'समांतर', 'Mongolian': 'Зэрэгцээ', 'Myanmar (Burmese)': 'မျဉ်းပြိုင်နေသော', 'Nepali': 'समानान्तर', 'Odia': 'ସମାନ୍ତରାଳ |', 'Pashto': 'موازي', 'Punjabi': 'ਪੈਰਲਲ', 'Sindhi': 'متوازي', 'Sinhala': 'සමාන්තර', 'Tajik': 'мувозӣ', 'Tamil': 'இணை', 'Telugu': 'సమాంతర', 'Thai': 'ขนาน', 'Turkish': 'paralel', 'Turkmen': 'parallel', 'Urdu': 'متوازی', 'Uyghur': 'پاراللېل', 'Uzbek': 'parallel', 'Vietnamese': 'song song, tương đông', 'Arabic': 'موازى\\n', 'Hebrew': 'מַקְבִּיל', 'Kurdish (Kurmanji)': 'dûberîn', 'Persian': 'موازی', 'Afrikaans': 'parallel', 'Amharic': 'ትይዩ', 'Chichewa': 'kufanana', 'Hausa': 'layi daya', 'Igbo': 'yiri', 'Kinyarwanda': 'parallel', 'Sesotho': 'e tšoanang', 'Shona': 'zvakafanana', 'Somali': 'isku midka ah', 'Swahili': 'sambamba', 'Xhosa': 'ukufana', 'Yoruba': 'iru', 'Zulu': 'parallel', 'Cebuano': 'susama', 'Filipino': 'kahilera', 'Hawaiian': 'kūlike', 'Indonesian': 'paralel', 'Javanese': 'podo karo', 'Malagasy': 'mitovy', 'Malay': 'selari', 'Maori': 'whakarara', 'Samoan': 'tutusa', 'Sundanese': 'sajajar', 'Esperanto': 'paralelajn', 'Haitian Creole': 'paralèl', 'Latin': 'parallel'}}, 'feebly': {'categories': [], 'translations': {'Albanian': 'feebly', 'Basque': 'feebly', 'Belarusian': 'бяссільна', 'Bosnian': 'slabo', 'Bulgarian': 'немощно', 'Catalan': 'dèbilment', 'Corsican': 'debbbilmente', 'Croatian': 'slabašno', 'Czech': 'Slabě', 'Danish': 'svagt', 'Dutch': 'zwakjes', 'Estonian': 'jõuetult', 'Finnish': 'heikosti', 'French': 'Faiblement', 'Frisian': 'swakke', 'Galician': 'débilmente', 'German': 'Schwach', 'Greek': 'ασθενικά\\n', 'Hungarian': 'erőtlenül', 'Icelandic': 'Feebly', 'Irish': 'feebly', 'Italian': 'debolmente', 'Latvian': 'vāji', 'Lithuanian': 'silpnai', 'Luxembourgish': 'schwaach', 'Macedonian': 'лабаво', 'Maltese': 'feebly', 'Norwegian': 'feebly', 'Polish': 'anemicznie', 'Portuguese': 'Fracamente', 'Romanian': 'slab', 'Russian': 'бессильно\\n', 'Scots Gaelic': 'gu h-uaigneach', 'Serbian': 'слабије\\n', 'Slovak': 'slabo', 'Slovenian': 'feebly', 'Spanish': 'Débilmente', 'Swedish': 'svagt', 'Tatar': 'зәгыйфь', 'Ukrainian': 'безсило\\n', 'Welsh': 'feebly', 'Yiddish': 'פעעבלי', 'Armenian': 'feebly', 'Azerbaijani': 'susqun', 'Bengali': 'feebly', 'Chinese Simplified': '有气无力\\n', 'Chinese Traditional': '有氣無力\\n', 'Georgian': 'სუსტი', 'Gujarati': 'મંદતાપૂર્વક', 'Hindi': 'निर्बलता से', 'Hmong': 'feebly', 'Japanese': '無駄な', 'Kannada': 'ನಿತ್ರಾಣವಾಗಿ', 'Kazakh': 'әлсіз', 'Khmer': 'feebly', 'Korean': '약하게\\n', 'Kyrgyz': 'начар', 'Lao': 'feebly', 'Malayalam': 'കരീമിനോട്', 'Marathi': 'दुर्बळपणे', 'Mongolian': 'feebly', 'Myanmar (Burmese)': 'feebly', 'Nepali': 'feebly', 'Odia': 'ଦୁର୍ବଳ', 'Pashto': 'په کلکه', 'Punjabi': 'ਕਮਜ਼ੋਰ', 'Sindhi': 'ڪمزور', 'Sinhala': 'feebly', 'Tajik': 'feebly', 'Tamil': 'சரணடை', 'Telugu': 'నిస్త్రాణగా', 'Thai': 'ปะหงับๆ', 'Turkish': 'zayıfça', 'Turkmen': 'ejiz', 'Urdu': 'feebly', 'Uyghur': 'ئاجىز', 'Uzbek': 'zaif', 'Vietnamese': 'Yếu ớt', 'Arabic': 'بضعف\\n', 'Hebrew': 'חלושות', 'Kurdish (Kurmanji)': 'feebly', 'Persian': 'ضعیف', 'Afrikaans': 'flou', 'Amharic': 'በክፍያ', 'Chichewa': 'monyengerera', 'Hausa': 'feebly', 'Igbo': 'onye ike gwụrụ', 'Kinyarwanda': 'intege nke', 'Sesotho': 'feebly', 'Shona': 'feebly', 'Somali': 'feebly', 'Swahili': 'feebly', 'Xhosa': 'buthathaka', 'Yoruba': 'feebly', 'Zulu': 'feebly', 'Cebuano': 'luya nga', 'Filipino': 'feebly', 'Hawaiian': 'nawaliwali', 'Indonesian': 'Lemah', 'Javanese': 'feebly', 'Malagasy': 'feebly', 'Malay': 'dgn lemah', 'Maori': 'porokeretia', 'Samoan': 'vaivai', 'Sundanese': 'lemes', 'Esperanto': 'malforte', 'Haitian Creole': 'fèbleman', 'Latin': 'ruit animamque'}}}\n"
     ]
    }
   ],
   "source": [
    "data = {}\n",
    "\n",
    "\n",
    "for item in fyp:\n",
    "    get_woord(item)\n",
    "    fun = get_woord(item)\n",
    "    get_category(item)\n",
    "    lolz = get_category(item)\n",
    "    get_translation(item)\n",
    "    omg = get_translation(item)\n",
    "    data[fun] = {\"categories\": (lolz) , \"translations\": (omg)}\n",
    "\n",
    "print(data)  "
   ]
  },
  {
   "cell_type": "code",
   "execution_count": 5,
   "metadata": {},
   "outputs": [],
   "source": [
    "def get_woord(item):\n",
    "    splitted_word = item.split(\"/\")[-1]\n",
    "    return splitted_word\n",
    "\n",
    "\n",
    "def get_category(item):\n",
    "    request = requests.get(item)\n",
    "    html_soup = BeautifulSoup(request.text, \"html.parser\")\n",
    "    categories = html_soup.find_all('div', class_=\"word-categories\")\n",
    "    categories = str(categories).split(\"href\")\n",
    "    category_list = [item.split(\"/\")[2].split('\"')[0] for item in categories if \"category\" in item]\n",
    "    return category_list\n",
    "\n",
    "def get_translation(item):\n",
    "    reqs = requests.get(item)\n",
    "    html_soup = BeautifulSoup(reqs.text, \"html.parser\")\n",
    "    languages = html_soup.find_all('td', class_='language-name')\n",
    "    translation_dict = {}\n",
    "    for language in languages:\n",
    "        try:\n",
    "            language = str(language)\n",
    "            country = language.split(\"lang\")[1].split(\">\")[2].split('<')[0]\n",
    "            translation = language.split(\"lang=\")[1].split(\">\")[1].split(\"<\")[0]\n",
    "            translation_dict[country] = translation\n",
    "            time.sleep(0.1)\n",
    "        except:\n",
    "            continue\n",
    "    return translation_dict\n",
    "\n",
    "\n",
    "\n",
    "\n",
    "\n",
    "\n"
   ]
  },
  {
   "cell_type": "code",
   "execution_count": 11,
   "metadata": {},
   "outputs": [
    {
     "name": "stdout",
     "output_type": "stream",
     "text": [
      "sentenced\n",
      "['law_and_security']\n",
      "gingerly\n",
      "['general']\n",
      "cite\n",
      "['general']\n",
      "sensitize\n",
      "['general']\n",
      "paterfamilias\n",
      "['politics_and_society']\n",
      "excellent_opportunity\n",
      "['general']\n",
      "exchange_rate\n",
      "['business_and_money']\n",
      "do_work\n",
      "['general']\n",
      "astonishing\n",
      "['general']\n",
      "precise_definition\n",
      "[]\n"
     ]
    }
   ],
   "source": [
    "\n",
    "\n",
    "\n",
    "\n",
    "    \n",
    "    "
   ]
  },
  {
   "cell_type": "code",
   "execution_count": null,
   "metadata": {},
   "outputs": [],
   "source": []
  },
  {
   "cell_type": "code",
   "execution_count": 352,
   "metadata": {},
   "outputs": [],
   "source": [
    "\n",
    "def get_category(item):\n",
    "    request = requests.get(item)\n",
    "    html_soup = BeautifulSoup(request.text, \"html.parser\")\n",
    "    categories = html_soup.find_all('div', class_=\"word-categories\")\n",
    "    categories = str(categories).split(\"href\")\n",
    "    category_list = [item.split(\"/\")[2].split('\"')[0] for item in categories if \"category\" in item]\n",
    "    return category_list\n",
    "\n",
    "category_list = get_category(item)\n"
   ]
  },
  {
   "cell_type": "code",
   "execution_count": 364,
   "metadata": {},
   "outputs": [],
   "source": [
    "\n",
    "def get_translation(item):\n",
    "    reqs = requests.get(item)\n",
    "    html_soup = BeautifulSoup(reqs.text, \"html.parser\")\n",
    "    languages = html_soup.find_all('td', class_='language-name')\n",
    "    translation_dict = {} \n",
    "    for language in languages:\n",
    "        language = str(language)\n",
    "        country = language.split(\"lang\")[1].split(\">\")[2].split('<')[0]\n",
    "        translation = language.split(\"lang=\")[1].split(\">\")[1].split(\"<\")[0]\n",
    "        translation_dict[country] = translation\n",
    "    return translation_dict      \n",
    "\n"
   ]
  },
  {
   "cell_type": "code",
   "execution_count": null,
   "metadata": {},
   "outputs": [],
   "source": [
    "\n",
    "\n",
    "\n",
    "\n",
    "    \n",
    "  \n"
   ]
  },
  {
   "cell_type": "code",
   "execution_count": 268,
   "metadata": {},
   "outputs": [
    {
     "name": "stdout",
     "output_type": "stream",
     "text": [
      "split: Albanian\n",
      "trans: mustaqe\n",
      "{'woord': 'moustache'}\n"
     ]
    },
    {
     "ename": "TypeError",
     "evalue": "string indices must be integers",
     "output_type": "error",
     "traceback": [
      "\u001b[0;31m---------------------------------------------------------------------------\u001b[0m",
      "\u001b[0;31mTypeError\u001b[0m                                 Traceback (most recent call last)",
      "\u001b[0;32m/tmp/ipykernel_74623/155099335.py\u001b[0m in \u001b[0;36m<module>\u001b[0;34m\u001b[0m\n\u001b[1;32m      1\u001b[0m \u001b[0mitem\u001b[0m \u001b[0;34m=\u001b[0m \u001b[0;34m\"https://www.indifferentlanguages.com/words/moustache\"\u001b[0m\u001b[0;34m\u001b[0m\u001b[0;34m\u001b[0m\u001b[0m\n\u001b[1;32m      2\u001b[0m \u001b[0;34m\u001b[0m\u001b[0m\n\u001b[0;32m----> 3\u001b[0;31m \u001b[0mget_translation\u001b[0m\u001b[0;34m(\u001b[0m\u001b[0mitem\u001b[0m\u001b[0;34m)\u001b[0m\u001b[0;34m\u001b[0m\u001b[0;34m\u001b[0m\u001b[0m\n\u001b[0m",
      "\u001b[0;32m/tmp/ipykernel_74623/1170981373.py\u001b[0m in \u001b[0;36mget_translation\u001b[0;34m(item)\u001b[0m\n\u001b[1;32m     24\u001b[0m         \u001b[0mprint\u001b[0m\u001b[0;34m(\u001b[0m\u001b[0;34mf\"trans: {trans}\"\u001b[0m\u001b[0;34m)\u001b[0m\u001b[0;34m\u001b[0m\u001b[0;34m\u001b[0m\u001b[0m\n\u001b[1;32m     25\u001b[0m         \u001b[0mprint\u001b[0m\u001b[0;34m(\u001b[0m\u001b[0mdata\u001b[0m\u001b[0;34m)\u001b[0m\u001b[0;34m\u001b[0m\u001b[0;34m\u001b[0m\u001b[0m\n\u001b[0;32m---> 26\u001b[0;31m         \u001b[0mdata\u001b[0m\u001b[0;34m[\u001b[0m\u001b[0;34m\"woord\"\u001b[0m\u001b[0;34m]\u001b[0m\u001b[0;34m[\u001b[0m\u001b[0;34m\"translation\"\u001b[0m\u001b[0;34m]\u001b[0m\u001b[0;34m[\u001b[0m\u001b[0msplit\u001b[0m\u001b[0;34m]\u001b[0m \u001b[0;34m=\u001b[0m \u001b[0mtrans\u001b[0m\u001b[0;34m\u001b[0m\u001b[0;34m\u001b[0m\u001b[0m\n\u001b[0m\u001b[1;32m     27\u001b[0m \u001b[0;34m\u001b[0m\u001b[0m\n\u001b[1;32m     28\u001b[0m     \u001b[0;32mreturn\u001b[0m \u001b[0mprint\u001b[0m\u001b[0;34m(\u001b[0m\u001b[0mtranslation\u001b[0m\u001b[0;34m,\u001b[0m \u001b[0msplit\u001b[0m\u001b[0;34m)\u001b[0m\u001b[0;34m\u001b[0m\u001b[0;34m\u001b[0m\u001b[0m\n",
      "\u001b[0;31mTypeError\u001b[0m: string indices must be integers"
     ]
    }
   ],
   "source": [
    "item = \"https://www.indifferentlanguages.com/words/moustache\"\n",
    "\n",
    "get_translation(item)"
   ]
  },
  {
   "cell_type": "code",
   "execution_count": 267,
   "metadata": {},
   "outputs": [],
   "source": [
    "def get_woord(item):\n",
    "    woorden = item.split(\"/\")[-1]\n",
    "    data[\"woord\"] = woorden\n",
    "    return print(data[\"woord\"])\n",
    "\n",
    "\n",
    "def get_category(item):\n",
    "    request = requests.get(item)\n",
    "    html_soup = BeautifulSoup(request.text, \"html.parser\")\n",
    "    categories = html_soup.find_all('div', class_=\"word-categories\")\n",
    "    categories = str(categories).split(\"href\")\n",
    "    category_list = [item.split(\"/\")[2].split('\"')[0] for item in categories if \"category\" in item]\n",
    "    return print(category_list)\n",
    "\n",
    "def get_translation(item):\n",
    "    reqs = requests.get(item)\n",
    "    html_soup = BeautifulSoup(reqs.text, \"html.parser\")\n",
    "    languages = html_soup.find_all('td', class_='language-name')\n",
    "    for language in languages:\n",
    "        language = str(language)\n",
    "        split = language.split(\"lang\")[1].split(\">\")[2].split('<')[0]\n",
    "        trans = language.split(\"lang=\")[1].split(\">\")[1].split(\"<\")[0]\n",
    "        print(f\"split: {split}\")\n",
    "        print(f\"trans: {trans}\")\n",
    "        print(data)\n",
    "        data[\"woord\"][\"translation\"][split] = trans\n",
    "        \n",
    "    return print(translation, split)  \n"
   ]
  },
  {
   "cell_type": "code",
   "execution_count": null,
   "metadata": {},
   "outputs": [],
   "source": [
    "\n",
    "\n"
   ]
  },
  {
   "cell_type": "code",
   "execution_count": null,
   "metadata": {},
   "outputs": [],
   "source": []
  },
  {
   "cell_type": "code",
   "execution_count": 128,
   "metadata": {},
   "outputs": [],
   "source": [
    "\n",
    "    \n",
    "        \n",
    "            "
   ]
  },
  {
   "cell_type": "code",
   "execution_count": 12,
   "metadata": {},
   "outputs": [
    {
     "data": {
      "text/plain": [
       "'['"
      ]
     },
     "execution_count": 12,
     "metadata": {},
     "output_type": "execute_result"
    }
   ],
   "source": []
  },
  {
   "cell_type": "code",
   "execution_count": 13,
   "metadata": {},
   "outputs": [],
   "source": [
    "\n",
    "\n"
   ]
  },
  {
   "cell_type": "code",
   "execution_count": 41,
   "metadata": {},
   "outputs": [
    {
     "name": "stdout",
     "output_type": "stream",
     "text": [
      "{'category': 'general', 'Translation': 'CONSERVATORIUM', 'Language': 'Latin'}\n"
     ]
    }
   ],
   "source": [
    "\n"
   ]
  },
  {
   "cell_type": "code",
   "execution_count": 29,
   "metadata": {},
   "outputs": [
    {
     "name": "stdout",
     "output_type": "stream",
     "text": [
      "appearance_and_personality\n",
      "human_body\n"
     ]
    }
   ],
   "source": []
  },
  {
   "cell_type": "code",
   "execution_count": 41,
   "metadata": {},
   "outputs": [
    {
     "data": {
      "text/plain": [
       "[]"
      ]
     },
     "execution_count": 41,
     "metadata": {},
     "output_type": "execute_result"
    }
   ],
   "source": []
  },
  {
   "cell_type": "code",
   "execution_count": 15,
   "metadata": {},
   "outputs": [
    {
     "data": {
      "text/plain": [
       "'ushqim'"
      ]
     },
     "execution_count": 15,
     "metadata": {},
     "output_type": "execute_result"
    }
   ],
   "source": []
  },
  {
   "cell_type": "code",
   "execution_count": null,
   "metadata": {},
   "outputs": [],
   "source": [
    "# TODO:\n",
    "# find error when no more pages for letter\n",
    "\n",
    "def get_page(character, page_number):\n",
    "    results = dict()\n",
    "    char_number_page = ...\n",
    "    words = get_words(char_number_page)\n",
    "    for word in words:\n",
    "        word_url = make_word_url(word)\n",
    "        category = get_catgory(word_url)\n",
    "        translations = get_translations(word_url)\n",
    "        results[word] = {\n",
    "            \"category\": category,\n",
    "            \"translations\": translations,\n",
    "        }\n",
    "\n",
    "\n",
    "def get_words(char_number_page):   \n",
    "    pass\n",
    "\n",
    "def make_word_url(char_number_page, word):\n",
    "    pass\n",
    "\n",
    "def get_catgory(word_url):\n",
    "    pass\n",
    "\n",
    "def get_translations(word_url):\n",
    "    translations = dict()\n",
    "    # translations[language] = translation\n",
    "    pass\n",
    "\n",
    "    "
   ]
  }
 ],
 "metadata": {
  "interpreter": {
   "hash": "767d51c1340bd893661ea55ea3124f6de3c7a262a8b4abca0554b478b1e2ff90"
  },
  "kernelspec": {
   "display_name": "Python 3.8.0 64-bit",
   "name": "python3"
  },
  "language_info": {
   "codemirror_mode": {
    "name": "ipython",
    "version": 3
   },
   "file_extension": ".py",
   "mimetype": "text/x-python",
   "name": "python",
   "nbconvert_exporter": "python",
   "pygments_lexer": "ipython3",
   "version": "3.8.0"
  },
  "orig_nbformat": 4
 },
 "nbformat": 4,
 "nbformat_minor": 2
}
