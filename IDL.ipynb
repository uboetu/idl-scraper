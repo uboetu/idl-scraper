{
 "cells": [
  {
   "cell_type": "code",
   "execution_count": 1,
   "source": [
    "from bs4 import BeautifulSoup\n",
    "import requests\n",
    "import string\n",
    "import time"
   ],
   "outputs": [],
   "metadata": {}
  },
  {
   "cell_type": "code",
   "execution_count": 69,
   "source": [
    "from bs4 import BeautifulSoup\n",
    "from bs4.dammit import EncodingDetector\n",
    "import requests\n",
    "\n",
    "baseurl = \"https://www.indifferentlanguages.com\"\n",
    "urls= []\n",
    "parser = 'html.parser'\n",
    "resp = requests.get(baseurl)\n",
    "http_encoding = resp.encoding if 'charset' in resp.headers.get('content-type', '').lower() else None\n",
    "html_encoding = EncodingDetector.find_declared_encoding(resp.content, is_html=True)\n",
    "encoding = html_encoding or http_encoding\n",
    "soup = BeautifulSoup(resp.content, parser, from_encoding=encoding)\n",
    "\n",
    "for link in soup.find_all('a', class_=\"letter\"):\n",
    "    urls.append(baseurl + link['href'])\n",
    "\n",
    "allurls = []\n",
    "for item in urls:\n",
    "    reqs = requests.get(item)\n",
    "    soup = BeautifulSoup(reqs.text, 'html.parser')\n",
    "    for link in soup.find_all('a'):\n",
    "        allurls.append(link.get('href'))\n",
    "        \n",
    "omg = dict.fromkeys(allurls)\n",
    "\n",
    "for item in omg:\n",
    "\n",
    "\n",
    "    \n",
    "\n",
    "\n",
    "\n",
    " \n"
   ],
   "outputs": [],
   "metadata": {}
  },
  {
   "cell_type": "code",
   "execution_count": 135,
   "source": [
    "kaas = [\"https://www.indifferentlanguages.com/a/1/\", \"https://www.indifferentlanguages.com/a/2/\"]\n",
    "\n",
    "everything = []\n",
    "for item in kaas:\n",
    "    reqs = requests.get(item)\n",
    "    soup = BeautifulSoup(reqs.text, 'html.parser')\n",
    "    gvd = soup.find_all(class_=\"word-link\")\n",
    "        \n",
    "\n",
    "\n",
    "\n"
   ],
   "outputs": [],
   "metadata": {}
  },
  {
   "cell_type": "code",
   "execution_count": 137,
   "source": [],
   "outputs": [
    {
     "output_type": "execute_result",
     "data": {
      "text/plain": [
       "[]"
      ]
     },
     "metadata": {},
     "execution_count": 137
    }
   ],
   "metadata": {}
  },
  {
   "cell_type": "code",
   "execution_count": 110,
   "source": [],
   "outputs": [
    {
     "output_type": "stream",
     "name": "stdout",
     "text": [
      "/words/a_bit\n"
     ]
    }
   ],
   "metadata": {}
  },
  {
   "cell_type": "code",
   "execution_count": 139,
   "source": [],
   "outputs": [
    {
     "output_type": "error",
     "ename": "AttributeError",
     "evalue": "ResultSet object has no attribute 'split'. You're probably treating a list of elements like a single element. Did you call find_all() when you meant to call find()?",
     "traceback": [
      "\u001b[0;31m---------------------------------------------------------------------------\u001b[0m",
      "\u001b[0;31mAttributeError\u001b[0m                            Traceback (most recent call last)",
      "\u001b[0;32m/tmp/ipykernel_57812/1040851142.py\u001b[0m in \u001b[0;36m<module>\u001b[0;34m\u001b[0m\n\u001b[1;32m      5\u001b[0m \u001b[0mwoords\u001b[0m \u001b[0;34m=\u001b[0m \u001b[0mdoc\u001b[0m\u001b[0;34m.\u001b[0m\u001b[0mfind_all\u001b[0m\u001b[0;34m(\u001b[0m\u001b[0mclass_\u001b[0m\u001b[0;34m=\u001b[0m\u001b[0;34m\"word-link\"\u001b[0m\u001b[0;34m)\u001b[0m\u001b[0;34m\u001b[0m\u001b[0;34m\u001b[0m\u001b[0m\n\u001b[1;32m      6\u001b[0m \u001b[0;34m\u001b[0m\u001b[0m\n\u001b[0;32m----> 7\u001b[0;31m \u001b[0mhref\u001b[0m \u001b[0;34m=\u001b[0m \u001b[0mwoords\u001b[0m\u001b[0;34m.\u001b[0m\u001b[0msplit\u001b[0m\u001b[0;34m(\u001b[0m\u001b[0;34m\"href=\"\u001b[0m\u001b[0;34m)\u001b[0m\u001b[0;34m[\u001b[0m\u001b[0;36m1\u001b[0m\u001b[0;34m]\u001b[0m\u001b[0;34m.\u001b[0m\u001b[0msplit\u001b[0m\u001b[0;34m(\u001b[0m\u001b[0;34m'\"'\u001b[0m\u001b[0;34m)\u001b[0m\u001b[0;34m[\u001b[0m\u001b[0;36m1\u001b[0m\u001b[0;34m]\u001b[0m\u001b[0;34m\u001b[0m\u001b[0;34m\u001b[0m\u001b[0m\n\u001b[0m\u001b[1;32m      8\u001b[0m \u001b[0;34m\u001b[0m\u001b[0m\n\u001b[1;32m      9\u001b[0m \u001b[0murl2\u001b[0m \u001b[0;34m=\u001b[0m \u001b[0;34m\"https://www.indifferentlanguages.com\"\u001b[0m\u001b[0;34m+\u001b[0m\u001b[0mhref\u001b[0m\u001b[0;34m\u001b[0m\u001b[0;34m\u001b[0m\u001b[0m\n",
      "\u001b[0;32m~/.local/lib/python3.8/site-packages/bs4/element.py\u001b[0m in \u001b[0;36m__getattr__\u001b[0;34m(self, key)\u001b[0m\n\u001b[1;32m   2171\u001b[0m     \u001b[0;32mdef\u001b[0m \u001b[0m__getattr__\u001b[0m\u001b[0;34m(\u001b[0m\u001b[0mself\u001b[0m\u001b[0;34m,\u001b[0m \u001b[0mkey\u001b[0m\u001b[0;34m)\u001b[0m\u001b[0;34m:\u001b[0m\u001b[0;34m\u001b[0m\u001b[0;34m\u001b[0m\u001b[0m\n\u001b[1;32m   2172\u001b[0m         \u001b[0;34m\"\"\"Raise a helpful exception to explain a common code fix.\"\"\"\u001b[0m\u001b[0;34m\u001b[0m\u001b[0;34m\u001b[0m\u001b[0m\n\u001b[0;32m-> 2173\u001b[0;31m         raise AttributeError(\n\u001b[0m\u001b[1;32m   2174\u001b[0m             \u001b[0;34m\"ResultSet object has no attribute '%s'. You're probably treating a list of elements like a single element. Did you call find_all() when you meant to call find()?\"\u001b[0m \u001b[0;34m%\u001b[0m \u001b[0mkey\u001b[0m\u001b[0;34m\u001b[0m\u001b[0;34m\u001b[0m\u001b[0m\n\u001b[1;32m   2175\u001b[0m         )\n",
      "\u001b[0;31mAttributeError\u001b[0m: ResultSet object has no attribute 'split'. You're probably treating a list of elements like a single element. Did you call find_all() when you meant to call find()?"
     ]
    }
   ],
   "metadata": {}
  },
  {
   "cell_type": "code",
   "execution_count": null,
   "source": [
    "url = \"https://www.indifferentlanguages.com/dictionary/a\"\n",
    "\n",
    "result = requests.get(url)\n",
    "doc = BeautifulSoup(result.text,\"html.parser\")\n",
    "\n",
    "for link in doc.find_all('a', href=True):\n",
    "    if link not in url:\n",
    "        continue\n",
    "    "
   ],
   "outputs": [
    {
     "output_type": "error",
     "ename": "TypeError",
     "evalue": "'in <string>' requires string as left operand, not Tag",
     "traceback": [
      "\u001b[0;31m---------------------------------------------------------------------------\u001b[0m",
      "\u001b[0;31mTypeError\u001b[0m                                 Traceback (most recent call last)",
      "\u001b[0;32m/tmp/ipykernel_57812/1237769958.py\u001b[0m in \u001b[0;36m<module>\u001b[0;34m\u001b[0m\n\u001b[1;32m      5\u001b[0m \u001b[0;34m\u001b[0m\u001b[0m\n\u001b[1;32m      6\u001b[0m \u001b[0;32mfor\u001b[0m \u001b[0mlink\u001b[0m \u001b[0;32min\u001b[0m \u001b[0mdoc\u001b[0m\u001b[0;34m.\u001b[0m\u001b[0mfind_all\u001b[0m\u001b[0;34m(\u001b[0m\u001b[0;34m'a'\u001b[0m\u001b[0;34m,\u001b[0m \u001b[0mhref\u001b[0m\u001b[0;34m=\u001b[0m\u001b[0;32mTrue\u001b[0m\u001b[0;34m)\u001b[0m\u001b[0;34m:\u001b[0m\u001b[0;34m\u001b[0m\u001b[0;34m\u001b[0m\u001b[0m\n\u001b[0;32m----> 7\u001b[0;31m     \u001b[0;32mif\u001b[0m \u001b[0mlink\u001b[0m \u001b[0;32mnot\u001b[0m \u001b[0;32min\u001b[0m \u001b[0murl\u001b[0m\u001b[0;34m:\u001b[0m\u001b[0;34m\u001b[0m\u001b[0;34m\u001b[0m\u001b[0m\n\u001b[0m\u001b[1;32m      8\u001b[0m         \u001b[0;32mcontinue\u001b[0m\u001b[0;34m\u001b[0m\u001b[0;34m\u001b[0m\u001b[0m\n\u001b[1;32m      9\u001b[0m \u001b[0;34m\u001b[0m\u001b[0m\n",
      "\u001b[0;31mTypeError\u001b[0m: 'in <string>' requires string as left operand, not Tag"
     ]
    }
   ],
   "metadata": {}
  },
  {
   "cell_type": "code",
   "execution_count": null,
   "source": [],
   "outputs": [
    {
     "output_type": "stream",
     "name": "stdout",
     "text": [
      "['https://www.indifferentlanguages.com/dictionary/a', 'https://www.indifferentlanguages.com/dictionary/b', 'https://www.indifferentlanguages.com/dictionary/c', 'https://www.indifferentlanguages.com/dictionary/d', 'https://www.indifferentlanguages.com/dictionary/e', 'https://www.indifferentlanguages.com/dictionary/f', 'https://www.indifferentlanguages.com/dictionary/g', 'https://www.indifferentlanguages.com/dictionary/h', 'https://www.indifferentlanguages.com/dictionary/i', 'https://www.indifferentlanguages.com/dictionary/j', 'https://www.indifferentlanguages.com/dictionary/k', 'https://www.indifferentlanguages.com/dictionary/l', 'https://www.indifferentlanguages.com/dictionary/m', 'https://www.indifferentlanguages.com/dictionary/n', 'https://www.indifferentlanguages.com/dictionary/o', 'https://www.indifferentlanguages.com/dictionary/p', 'https://www.indifferentlanguages.com/dictionary/q', 'https://www.indifferentlanguages.com/dictionary/r', 'https://www.indifferentlanguages.com/dictionary/s', 'https://www.indifferentlanguages.com/dictionary/t', 'https://www.indifferentlanguages.com/dictionary/u', 'https://www.indifferentlanguages.com/dictionary/v', 'https://www.indifferentlanguages.com/dictionary/w', 'https://www.indifferentlanguages.com/dictionary/x', 'https://www.indifferentlanguages.com/dictionary/y', 'https://www.indifferentlanguages.com/dictionary/z']\n"
     ]
    }
   ],
   "metadata": {}
  },
  {
   "cell_type": "code",
   "execution_count": null,
   "source": [
    "for item in urls\n",
    "result = requests.get(item)\n",
    "doc = BeautifulSoup(result.text,\"html.parser\")\n",
    "\n",
    "for link in doc.find_all('a', href=True):\n",
    "    if link not in url:\n",
    "        continue\n",
    "\n",
    "\n",
    "\n",
    "\n",
    "translations = []\n",
    "for language in languages:\n",
    "    language = str(language)\n",
    "    translation = language.split(\"lang=\")[1].split(\">\")[1].split(\"<\")[0]\n",
    "    translations.append(translation)\n",
    "\n",
    "land = []\n",
    "for language in languages:\n",
    "    language = str(language)\n",
    "    try:\n",
    "        split = language.split(\"lang\")[1].split(\">\")[2].split('<')[0]\n",
    "        land.append(split)\n",
    "    except:\n",
    "        pass"
   ],
   "outputs": [],
   "metadata": {}
  },
  {
   "cell_type": "code",
   "execution_count": null,
   "source": [
    "allurls"
   ],
   "outputs": [
    {
     "output_type": "execute_result",
     "data": {
      "text/plain": [
       "['https://www.indifferentlanguages.com/dictionary/a',\n",
       " 'https://www.indifferentlanguages.com/dictionary/b',\n",
       " 'https://www.indifferentlanguages.com/dictionary/c',\n",
       " 'https://www.indifferentlanguages.com/dictionary/d',\n",
       " 'https://www.indifferentlanguages.com/dictionary/e',\n",
       " 'https://www.indifferentlanguages.com/dictionary/f',\n",
       " 'https://www.indifferentlanguages.com/dictionary/g',\n",
       " 'https://www.indifferentlanguages.com/dictionary/h',\n",
       " 'https://www.indifferentlanguages.com/dictionary/i',\n",
       " 'https://www.indifferentlanguages.com/dictionary/j',\n",
       " 'https://www.indifferentlanguages.com/dictionary/k',\n",
       " 'https://www.indifferentlanguages.com/dictionary/l',\n",
       " 'https://www.indifferentlanguages.com/dictionary/m',\n",
       " 'https://www.indifferentlanguages.com/dictionary/n',\n",
       " 'https://www.indifferentlanguages.com/dictionary/o',\n",
       " 'https://www.indifferentlanguages.com/dictionary/p',\n",
       " 'https://www.indifferentlanguages.com/dictionary/q',\n",
       " 'https://www.indifferentlanguages.com/dictionary/r',\n",
       " 'https://www.indifferentlanguages.com/dictionary/s',\n",
       " 'https://www.indifferentlanguages.com/dictionary/t',\n",
       " 'https://www.indifferentlanguages.com/dictionary/u',\n",
       " 'https://www.indifferentlanguages.com/dictionary/v',\n",
       " 'https://www.indifferentlanguages.com/dictionary/w',\n",
       " 'https://www.indifferentlanguages.com/dictionary/x',\n",
       " 'https://www.indifferentlanguages.com/dictionary/y',\n",
       " 'https://www.indifferentlanguages.com/dictionary/z']"
      ]
     },
     "metadata": {},
     "execution_count": 10
    }
   ],
   "metadata": {}
  },
  {
   "cell_type": "code",
   "execution_count": null,
   "source": [],
   "outputs": [],
   "metadata": {}
  },
  {
   "cell_type": "code",
   "execution_count": null,
   "source": [],
   "outputs": [],
   "metadata": {}
  },
  {
   "cell_type": "code",
   "execution_count": null,
   "source": [
    "for character in string.ascii_lowercase:\n",
    "    page_number = 1\n",
    "    while True:\n",
    "        try:\n",
    "            get_data(character, page_number)\n",
    "            page_number += 1"
   ],
   "outputs": [],
   "metadata": {}
  },
  {
   "cell_type": "code",
   "execution_count": null,
   "source": [
    "# TODO:\n",
    "# find error when no more pages for letter\n",
    "\n",
    "def get_page(character, page_number):\n",
    "    results = dict()\n",
    "    char_number_page = ...\n",
    "    words = get_words(char_number_page)\n",
    "    for word in words:\n",
    "        word_url = make_word_url(word)\n",
    "        category = get_catgory(word_url)\n",
    "        translations = get_translations(word_url)\n",
    "        results[word] = {\n",
    "            \"category\": category,\n",
    "            \"translations\": translations,\n",
    "        }\n",
    "\n",
    "\n",
    "def get_words(char_number_page):   \n",
    "    pass\n",
    "\n",
    "def make_word_url(char_number_page, word):\n",
    "    pass\n",
    "\n",
    "def get_catgory(word_url):\n",
    "    pass\n",
    "\n",
    "def get_translations(word_url):\n",
    "    translations = dict()\n",
    "    # translations[language] = translation\n",
    "    pass\n",
    "\n",
    "    "
   ],
   "outputs": [],
   "metadata": {}
  }
 ],
 "metadata": {
  "orig_nbformat": 4,
  "language_info": {
   "name": "python",
   "version": "3.8.0",
   "mimetype": "text/x-python",
   "codemirror_mode": {
    "name": "ipython",
    "version": 3
   },
   "pygments_lexer": "ipython3",
   "nbconvert_exporter": "python",
   "file_extension": ".py"
  },
  "kernelspec": {
   "name": "python3",
   "display_name": "Python 3.8.0 64-bit"
  },
  "interpreter": {
   "hash": "767d51c1340bd893661ea55ea3124f6de3c7a262a8b4abca0554b478b1e2ff90"
  }
 },
 "nbformat": 4,
 "nbformat_minor": 2
}