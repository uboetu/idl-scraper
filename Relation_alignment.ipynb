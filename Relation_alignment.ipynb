{
 "cells": [
  {
   "cell_type": "code",
   "execution_count": 4,
   "source": [
    "import pandas as pd\n",
    "import pymysql\n",
    "import seaborn as sns\n",
    "import matplotlib.pyplot as plt\n",
    "import numpy as np\n",
    "conn = pymysql.connect(\n",
    "    host='192.168.4.162',\n",
    "    port=int(3306),\n",
    "    charset=\"utf8mb4\",\n",
    "    user=\"uboetu\",\n",
    "    password=\"10RJ0Nd05vCiZr5m\",\n",
    "    db=\"relation_alignment\"\n",
    ")\n",
    "cursor = conn.cursor()\n",
    "query = \"SELECT accountid, type_number,type_code, MAX(follower_type_percentage) FROM `types_follower_alignment` WHERE `accountid` < 10000 AND type_code NOT IN (0,1,1542) AND type_number = 3 GROUP BY accountid\" \n",
    "cursor.execute(query)\n",
    "data= cursor.fetchall()\n",
    "\n",
    "dfa = pd.DataFrame(data)\n",
    "all_types = pd.read_excel('all_types.xlsx')\n",
    "df = dfa.rename(columns={0 : 'accountid', 1 : 'type_number',2 : 'ID',3 : 'follower_type_percentage'})\n",
    "dffollowers = pd.merge(df, all_types)\n",
    "\n",
    "query2 = \"SELECT * FROM `types_friend_alignment` WHERE type_number = 3 AND accountid < 10000 AND type_code NOT IN (0,1,1542)\" \n",
    "cursor.execute(query2)\n",
    "data2 = cursor.fetchall()\n",
    "dfb = pd.DataFrame(data2).rename(columns={0 : 'accountid', 1 : 'type_number',2 : 'ID',3: 'friend_type_count',4 : 'follower_type_percentage'})\n",
    "dffriends = pd.merge(dfb, all_types)"
   ],
   "outputs": [],
   "metadata": {}
  },
  {
   "cell_type": "code",
   "execution_count": 16,
   "source": [
    "dffollowers['accountid']"
   ],
   "outputs": [
    {
     "output_type": "execute_result",
     "data": {
      "text/plain": [
       "0         21\n",
       "1         53\n",
       "2        107\n",
       "3        136\n",
       "4        188\n",
       "        ... \n",
       "1037    8373\n",
       "1038    8756\n",
       "1039    9015\n",
       "1040    9377\n",
       "1041    9920\n",
       "Name: accountid, Length: 1042, dtype: int64"
      ]
     },
     "metadata": {},
     "execution_count": 16
    }
   ],
   "metadata": {}
  },
  {
   "cell_type": "code",
   "execution_count": 17,
   "source": [
    "dffollowers.head()"
   ],
   "outputs": [
    {
     "output_type": "execute_result",
     "data": {
      "text/html": [
       "<div>\n",
       "<style scoped>\n",
       "    .dataframe tbody tr th:only-of-type {\n",
       "        vertical-align: middle;\n",
       "    }\n",
       "\n",
       "    .dataframe tbody tr th {\n",
       "        vertical-align: top;\n",
       "    }\n",
       "\n",
       "    .dataframe thead th {\n",
       "        text-align: right;\n",
       "    }\n",
       "</style>\n",
       "<table border=\"1\" class=\"dataframe\">\n",
       "  <thead>\n",
       "    <tr style=\"text-align: right;\">\n",
       "      <th></th>\n",
       "      <th>accountid</th>\n",
       "      <th>type_number</th>\n",
       "      <th>ID</th>\n",
       "      <th>follower_type_percentage</th>\n",
       "      <th>Type</th>\n",
       "    </tr>\n",
       "  </thead>\n",
       "  <tbody>\n",
       "    <tr>\n",
       "      <th>0</th>\n",
       "      <td>21</td>\n",
       "      <td>3</td>\n",
       "      <td>92</td>\n",
       "      <td>0.097</td>\n",
       "      <td>.. Entrepreneur 7</td>\n",
       "    </tr>\n",
       "    <tr>\n",
       "      <th>1</th>\n",
       "      <td>53</td>\n",
       "      <td>3</td>\n",
       "      <td>92</td>\n",
       "      <td>0.080</td>\n",
       "      <td>.. Entrepreneur 7</td>\n",
       "    </tr>\n",
       "    <tr>\n",
       "      <th>2</th>\n",
       "      <td>107</td>\n",
       "      <td>3</td>\n",
       "      <td>92</td>\n",
       "      <td>0.139</td>\n",
       "      <td>.. Entrepreneur 7</td>\n",
       "    </tr>\n",
       "    <tr>\n",
       "      <th>3</th>\n",
       "      <td>136</td>\n",
       "      <td>3</td>\n",
       "      <td>92</td>\n",
       "      <td>0.091</td>\n",
       "      <td>.. Entrepreneur 7</td>\n",
       "    </tr>\n",
       "    <tr>\n",
       "      <th>4</th>\n",
       "      <td>188</td>\n",
       "      <td>3</td>\n",
       "      <td>92</td>\n",
       "      <td>0.125</td>\n",
       "      <td>.. Entrepreneur 7</td>\n",
       "    </tr>\n",
       "  </tbody>\n",
       "</table>\n",
       "</div>"
      ],
      "text/plain": [
       "   accountid  type_number  ID follower_type_percentage               Type\n",
       "0         21            3  92                    0.097  .. Entrepreneur 7\n",
       "1         53            3  92                    0.080  .. Entrepreneur 7\n",
       "2        107            3  92                    0.139  .. Entrepreneur 7\n",
       "3        136            3  92                    0.091  .. Entrepreneur 7\n",
       "4        188            3  92                    0.125  .. Entrepreneur 7"
      ]
     },
     "metadata": {},
     "execution_count": 17
    }
   ],
   "metadata": {}
  },
  {
   "cell_type": "code",
   "execution_count": null,
   "source": [],
   "outputs": [],
   "metadata": {}
  },
  {
   "cell_type": "code",
   "execution_count": null,
   "source": [],
   "outputs": [],
   "metadata": {}
  }
 ],
 "metadata": {
  "orig_nbformat": 4,
  "language_info": {
   "name": "python",
   "version": "3.8.0",
   "mimetype": "text/x-python",
   "codemirror_mode": {
    "name": "ipython",
    "version": 3
   },
   "pygments_lexer": "ipython3",
   "nbconvert_exporter": "python",
   "file_extension": ".py"
  },
  "kernelspec": {
   "name": "python3",
   "display_name": "Python 3.8.0 64-bit"
  },
  "interpreter": {
   "hash": "767d51c1340bd893661ea55ea3124f6de3c7a262a8b4abca0554b478b1e2ff90"
  }
 },
 "nbformat": 4,
 "nbformat_minor": 2
}